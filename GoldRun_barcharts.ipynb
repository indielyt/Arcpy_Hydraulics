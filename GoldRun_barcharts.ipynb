{
 "cells": [
  {
   "cell_type": "code",
   "execution_count": 193,
   "metadata": {
    "collapsed": true
   },
   "outputs": [],
   "source": [
    "import numpy as np\n",
    "import pandas as pd\n",
    "import matplotlib.pyplot as plt"
   ]
  },
  {
   "cell_type": "code",
   "execution_count": 194,
   "metadata": {},
   "outputs": [
    {
     "data": {
      "text/html": [
       "<div>\n",
       "<table border=\"1\" class=\"dataframe\">\n",
       "  <thead>\n",
       "    <tr style=\"text-align: right;\">\n",
       "      <th></th>\n",
       "      <th>RAS STA</th>\n",
       "      <th>Slope</th>\n",
       "      <th>V</th>\n",
       "      <th>Dscour</th>\n",
       "    </tr>\n",
       "  </thead>\n",
       "  <tbody>\n",
       "    <tr>\n",
       "      <th>0</th>\n",
       "      <td>9155.282</td>\n",
       "      <td>0.0794</td>\n",
       "      <td>7.58</td>\n",
       "      <td>NaN</td>\n",
       "    </tr>\n",
       "    <tr>\n",
       "      <th>1</th>\n",
       "      <td>9050.821</td>\n",
       "      <td>0.0570</td>\n",
       "      <td>7.61</td>\n",
       "      <td>NaN</td>\n",
       "    </tr>\n",
       "    <tr>\n",
       "      <th>2</th>\n",
       "      <td>8967.188</td>\n",
       "      <td>0.0882</td>\n",
       "      <td>7.23</td>\n",
       "      <td>NaN</td>\n",
       "    </tr>\n",
       "    <tr>\n",
       "      <th>3</th>\n",
       "      <td>8892.489</td>\n",
       "      <td>0.0836</td>\n",
       "      <td>8.41</td>\n",
       "      <td>NaN</td>\n",
       "    </tr>\n",
       "    <tr>\n",
       "      <th>4</th>\n",
       "      <td>8803.545</td>\n",
       "      <td>0.1196</td>\n",
       "      <td>6.86</td>\n",
       "      <td>NaN</td>\n",
       "    </tr>\n",
       "  </tbody>\n",
       "</table>\n",
       "</div>"
      ],
      "text/plain": [
       "    RAS STA   Slope     V  Dscour\n",
       "0  9155.282  0.0794  7.58     NaN\n",
       "1  9050.821  0.0570  7.61     NaN\n",
       "2  8967.188  0.0882  7.23     NaN\n",
       "3  8892.489  0.0836  8.41     NaN\n",
       "4  8803.545  0.1196  6.86     NaN"
      ]
     },
     "execution_count": 194,
     "metadata": {},
     "output_type": "execute_result"
    }
   ],
   "source": [
    "csv = r\"C:\\Users\\Daniel.Aragon\\Desktop\\TEMP\\TO2\\OM_hydraulics.csv\"\n",
    "df = pd.read_csv(csv)\n",
    "df.head()"
   ]
  },
  {
   "cell_type": "code",
   "execution_count": 195,
   "metadata": {},
   "outputs": [
    {
     "data": {
      "text/html": [
       "<div>\n",
       "<table border=\"1\" class=\"dataframe\">\n",
       "  <thead>\n",
       "    <tr style=\"text-align: right;\">\n",
       "      <th></th>\n",
       "      <th>RAS STA</th>\n",
       "      <th>Slope</th>\n",
       "      <th>V</th>\n",
       "      <th>Dscour</th>\n",
       "    </tr>\n",
       "  </thead>\n",
       "  <tbody>\n",
       "    <tr>\n",
       "      <th>0</th>\n",
       "      <td>9155.282</td>\n",
       "      <td>0.0794</td>\n",
       "      <td>7.58</td>\n",
       "      <td>0.0</td>\n",
       "    </tr>\n",
       "    <tr>\n",
       "      <th>1</th>\n",
       "      <td>9050.821</td>\n",
       "      <td>0.0570</td>\n",
       "      <td>7.61</td>\n",
       "      <td>0.0</td>\n",
       "    </tr>\n",
       "    <tr>\n",
       "      <th>2</th>\n",
       "      <td>8967.188</td>\n",
       "      <td>0.0882</td>\n",
       "      <td>7.23</td>\n",
       "      <td>0.0</td>\n",
       "    </tr>\n",
       "    <tr>\n",
       "      <th>3</th>\n",
       "      <td>8892.489</td>\n",
       "      <td>0.0836</td>\n",
       "      <td>8.41</td>\n",
       "      <td>0.0</td>\n",
       "    </tr>\n",
       "    <tr>\n",
       "      <th>4</th>\n",
       "      <td>8803.545</td>\n",
       "      <td>0.1196</td>\n",
       "      <td>6.86</td>\n",
       "      <td>0.0</td>\n",
       "    </tr>\n",
       "  </tbody>\n",
       "</table>\n",
       "</div>"
      ],
      "text/plain": [
       "    RAS STA   Slope     V  Dscour\n",
       "0  9155.282  0.0794  7.58     0.0\n",
       "1  9050.821  0.0570  7.61     0.0\n",
       "2  8967.188  0.0882  7.23     0.0\n",
       "3  8892.489  0.0836  8.41     0.0\n",
       "4  8803.545  0.1196  6.86     0.0"
      ]
     },
     "execution_count": 195,
     "metadata": {},
     "output_type": "execute_result"
    }
   ],
   "source": [
    "# Fill NaN values with zero\n",
    "df.fillna(value=0, inplace=True)\n",
    "df.head()"
   ]
  },
  {
   "cell_type": "code",
   "execution_count": 196,
   "metadata": {},
   "outputs": [
    {
     "data": {
      "text/html": [
       "<div>\n",
       "<table border=\"1\" class=\"dataframe\">\n",
       "  <thead>\n",
       "    <tr style=\"text-align: right;\">\n",
       "      <th></th>\n",
       "      <th>RAS STA</th>\n",
       "      <th>Slope</th>\n",
       "      <th>V</th>\n",
       "      <th>Dscour</th>\n",
       "      <th>STA</th>\n",
       "    </tr>\n",
       "  </thead>\n",
       "  <tbody>\n",
       "    <tr>\n",
       "      <th>185</th>\n",
       "      <td>845.0002</td>\n",
       "      <td>0.1402</td>\n",
       "      <td>9.95</td>\n",
       "      <td>0.000000</td>\n",
       "      <td>8060.2818</td>\n",
       "    </tr>\n",
       "    <tr>\n",
       "      <th>186</th>\n",
       "      <td>809.4067</td>\n",
       "      <td>0.1577</td>\n",
       "      <td>9.64</td>\n",
       "      <td>0.135463</td>\n",
       "      <td>8095.8753</td>\n",
       "    </tr>\n",
       "    <tr>\n",
       "      <th>187</th>\n",
       "      <td>783.0320</td>\n",
       "      <td>0.1890</td>\n",
       "      <td>9.84</td>\n",
       "      <td>0.000000</td>\n",
       "      <td>8122.2500</td>\n",
       "    </tr>\n",
       "    <tr>\n",
       "      <th>188</th>\n",
       "      <td>746.9471</td>\n",
       "      <td>0.1114</td>\n",
       "      <td>9.43</td>\n",
       "      <td>0.543616</td>\n",
       "      <td>8158.3349</td>\n",
       "    </tr>\n",
       "    <tr>\n",
       "      <th>189</th>\n",
       "      <td>706.2033</td>\n",
       "      <td>0.0419</td>\n",
       "      <td>4.78</td>\n",
       "      <td>0.000000</td>\n",
       "      <td>8199.0787</td>\n",
       "    </tr>\n",
       "  </tbody>\n",
       "</table>\n",
       "</div>"
      ],
      "text/plain": [
       "      RAS STA   Slope     V    Dscour        STA\n",
       "185  845.0002  0.1402  9.95  0.000000  8060.2818\n",
       "186  809.4067  0.1577  9.64  0.135463  8095.8753\n",
       "187  783.0320  0.1890  9.84  0.000000  8122.2500\n",
       "188  746.9471  0.1114  9.43  0.543616  8158.3349\n",
       "189  706.2033  0.0419  4.78  0.000000  8199.0787"
      ]
     },
     "execution_count": 196,
     "metadata": {},
     "output_type": "execute_result"
    }
   ],
   "source": [
    "# Add stream stationing\n",
    "StationMax = max(df['RAS STA'])\n",
    "\n",
    "# Convert Ras Stationing to Stream stationing by inverting and reseting 0 location\n",
    "df['STA'] = abs(df['RAS STA'] - StationMax) - 250\n",
    "\n",
    "# Drop stations beyond end of project\n",
    "df = df[df['STA'] <= 8200]\n",
    "\n",
    "df.tail()"
   ]
  },
  {
   "cell_type": "code",
   "execution_count": 197,
   "metadata": {},
   "outputs": [],
   "source": [
    "# Create grouped bar chart\n",
    "# https://pythonspot.com/matplotlib-bar-chart/\n",
    "\n",
    "# create plot\n",
    "n_groups = 3\n",
    "\n",
    "fig, ax = plt.subplots()\n",
    "index = np.arange(n_groups)\n",
    "bar_width = 100\n",
    "opacity = 0.8\n",
    "\n",
    "xticks = np.array(df['STA'])\n",
    "xticks = xticks[5::9]\n",
    "# xticks = [str(int(item)) for item in xticks]\n",
    "# print (xticks)\n",
    "\n",
    "# right  = [item[-2:] for item in xticks]\n",
    "# left   = [item[0:-2] for item in xticks]\n",
    "\n",
    "# combnd = []\n",
    "# for i in range(len(left)):\n",
    "# #     combnd[i] = np.concatenate(left[i], right[i])\n",
    "# #     print (i)\n",
    "# #     print (left[i], right[i])\n",
    "# #     new_string = np.concatenate((left[i], right[i]), axis=0)\n",
    "#     new_string = np.append((left[i], '+', right[i]))\n",
    "# #     print (new_string)\n",
    "#     combnd = np.append(combnd,new_string, axis=0)\n",
    "# combnd\n",
    "\n",
    "    \n"
   ]
  },
  {
   "cell_type": "code",
   "execution_count": 198,
   "metadata": {},
   "outputs": [
    {
     "data": {
      "image/png": "[encoded data removed]",
      "text/plain": [
       "<matplotlib.figure.Figure at 0x1c8fe668>"
      ]
     },
     "metadata": {},
     "output_type": "display_data"
    }
   ],
   "source": [
    "# Create bar plots, one at a time\n",
    "Var1 = plt.bar(df['STA'], df['Slope']*100, bar_width,\n",
    "                 alpha=opacity,\n",
    "                 color='b',\n",
    "                 label='Slope')\n",
    " \n",
    "Var2 = plt.bar(df['STA'] + bar_width, df['V'], bar_width,\n",
    "                 alpha=opacity,\n",
    "                 color='g',\n",
    "                 label='Velocity')\n",
    "\n",
    "Var3 = plt.bar(df['STA'] + 2*bar_width, df['Dscour'], bar_width,\n",
    "                 alpha=opacity,\n",
    "                 color='y',\n",
    "                 label='Scour')\n",
    "\n",
    "plt.xlabel('Stream Station')\n",
    "plt.ylabel('Slope(%), Velocity(ft/s), Scour(ft)')\n",
    "plt.title('Hydraulic Indicators for O&M - 100yr Flow')\n",
    "plt.xticks(xticks, rotation='45')\n",
    "plt.legend()\n",
    " \n",
    "plt.show()"
   ]
  },
  {
   "cell_type": "code",
   "execution_count": 201,
   "metadata": {},
   "outputs": [],
   "source": [
    "# savefig('goldrun_hydraulics.png', bbox_inches='tight')\n",
    "fig.savefig('plot.pdf', bbox_inches='tight')\n",
    "plt.close()"
   ]
  },
  {
   "cell_type": "code",
   "execution_count": null,
   "metadata": {
    "collapsed": true
   },
   "outputs": [],
   "source": []
  },
  {
   "cell_type": "code",
   "execution_count": null,
   "metadata": {
    "collapsed": true
   },
   "outputs": [],
   "source": []
  }
 ],
 "metadata": {
  "kernelspec": {
   "display_name": "Python 3",
   "language": "python",
   "name": "python3"
  },
  "language_info": {
   "codemirror_mode": {
    "name": "ipython",
    "version": 3
   },
   "file_extension": ".py",
   "mimetype": "text/x-python",
   "name": "python",
   "nbconvert_exporter": "python",
   "pygments_lexer": "ipython3",
   "version": "3.6.1"
  }
 },
 "nbformat": 4,
 "nbformat_minor": 2
}
